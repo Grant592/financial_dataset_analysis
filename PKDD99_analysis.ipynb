{
 "cells": [
  {
   "cell_type": "markdown",
   "metadata": {},
   "source": [
    "# Creating Analysis Dataset"
   ]
  },
  {
   "cell_type": "code",
   "execution_count": 1,
   "metadata": {},
   "outputs": [],
   "source": [
    "import pymysql\n",
    "import pandas as pd\n",
    "import numpy as np"
   ]
  },
  {
   "cell_type": "code",
   "execution_count": 2,
   "metadata": {},
   "outputs": [],
   "source": [
    "conn = pymysql.connect(\n",
    "    user=USER,\n",
    "    password=PASS,\n",
    "    host=HOST,\n",
    "    db='financial'\n",
    ")"
   ]
  },
  {
   "cell_type": "code",
   "execution_count": 3,
   "metadata": {},
   "outputs": [],
   "source": [
    "cur = conn.cursor()"
   ]
  },
  {
   "cell_type": "code",
   "execution_count": 4,
   "metadata": {},
   "outputs": [
    {
     "data": {
      "text/plain": [
       "4500"
      ]
     },
     "execution_count": 4,
     "metadata": {},
     "output_type": "execute_result"
    }
   ],
   "source": [
    "# Create detail of each accounts credit and debit over the period of years the account\n",
    "# has been open, along with the status of any loans they've taken out. This will\n",
    "# be the output of any classification\n",
    "\n",
    "cur.execute(\"\"\"SELECT \n",
    "   ID1, \n",
    "   CREDIT, \n",
    "   DEBIT, \n",
    "   CREDIT-DEBIT net, \n",
    "   CASE WHEN loan_status is NULL THEN  'E'ELSE loan_status END loan_status \n",
    "FROM  \n",
    "   (SELECT \n",
    "       account_id ID1, \n",
    "       SUM(amount) CREDIT \n",
    "   FROM \n",
    "       trans  \n",
    "   WHERE \n",
    "       type LIKE 'PRIJEM' \n",
    "   GROUP BY ID1) a \n",
    "LEFT OUTER JOIN \n",
    "   (SELECT \n",
    "       account_id ID2, \n",
    "       SUM(amount) DEBIT \n",
    "   FROM \n",
    "       trans  \n",
    "   WHERE \n",
    "       type LIKE 'VYDAJ' \n",
    "   GROUP BY ID2) b  \n",
    "ON \n",
    "   a.ID1 = b.ID2 \n",
    "LEFT OUTER JOIN \n",
    "   (SELECT \n",
    "       account_id ID3, \n",
    "       status loan_status \n",
    "   FROM \n",
    "       loan \n",
    "   GROUP BY \n",
    "       ID3) c \n",
    "ON a.ID1 = c.ID3;\n",
    "\"\"\")"
   ]
  },
  {
   "cell_type": "code",
   "execution_count": 5,
   "metadata": {},
   "outputs": [],
   "source": [
    "df1 = pd.DataFrame(cur.fetchall(), columns=['account_id', 'credit', 'debit', 'net', 'loan_status'])"
   ]
  },
  {
   "cell_type": "code",
   "execution_count": 6,
   "metadata": {},
   "outputs": [],
   "source": [
    "df1.set_index('account_id', inplace=True)"
   ]
  },
  {
   "cell_type": "code",
   "execution_count": 7,
   "metadata": {},
   "outputs": [],
   "source": [
    "loan_status_map = {\n",
    "    'A':0,\n",
    "    'B':1,\n",
    "    'C':2,\n",
    "    'D':3,\n",
    "    'E':4\n",
    "}\n",
    "\n",
    "df1['loan_status'] = df1['loan_status'].map(loan_status_map)"
   ]
  },
  {
   "cell_type": "code",
   "execution_count": null,
   "metadata": {},
   "outputs": [],
   "source": []
  },
  {
   "cell_type": "code",
   "execution_count": 8,
   "metadata": {},
   "outputs": [
    {
     "data": {
      "text/plain": [
       "6471"
      ]
     },
     "execution_count": 8,
     "metadata": {},
     "output_type": "execute_result"
    }
   ],
   "source": [
    "cur.execute(\"\"\"SELECT \n",
    "   account_id, \n",
    "   SUM(amount) OVER(PARTITION BY account_id) account_spend,  \n",
    "   SUM(amount) OVER(partition by account_id, k_symbol) k_spend, \n",
    "   SUM(amount) OVER(PARTITION BY account_id, k_symbol)/SUM(amount) OVER(PARTITION BY account_id)  k_proportion,  \n",
    "   CASE WHEN k_symbol LIKE '' THEN 'OTHER' ELSE k_symbol END transaction_type\n",
    "FROM \n",
    "   `order`;\n",
    "\"\"\")"
   ]
  },
  {
   "cell_type": "code",
   "execution_count": 9,
   "metadata": {},
   "outputs": [],
   "source": [
    "df2 = pd.DataFrame(cur.fetchall(), columns=['account_id', 'account_spend', 'k_spend', 'k_proportion', 'transaction_type'])"
   ]
  },
  {
   "cell_type": "code",
   "execution_count": 10,
   "metadata": {},
   "outputs": [
    {
     "data": {
      "text/html": [
       "<div>\n",
       "<style scoped>\n",
       "    .dataframe tbody tr th:only-of-type {\n",
       "        vertical-align: middle;\n",
       "    }\n",
       "\n",
       "    .dataframe tbody tr th {\n",
       "        vertical-align: top;\n",
       "    }\n",
       "\n",
       "    .dataframe thead th {\n",
       "        text-align: right;\n",
       "    }\n",
       "</style>\n",
       "<table border=\"1\" class=\"dataframe\">\n",
       "  <thead>\n",
       "    <tr style=\"text-align: right;\">\n",
       "      <th></th>\n",
       "      <th>account_id</th>\n",
       "      <th>account_spend</th>\n",
       "      <th>k_spend</th>\n",
       "      <th>k_proportion</th>\n",
       "      <th>transaction_type</th>\n",
       "    </tr>\n",
       "  </thead>\n",
       "  <tbody>\n",
       "    <tr>\n",
       "      <th>0</th>\n",
       "      <td>1</td>\n",
       "      <td>2452.0</td>\n",
       "      <td>2452.0</td>\n",
       "      <td>1.00000</td>\n",
       "      <td>SIPO</td>\n",
       "    </tr>\n",
       "    <tr>\n",
       "      <th>1</th>\n",
       "      <td>2</td>\n",
       "      <td>10638.7</td>\n",
       "      <td>7266.0</td>\n",
       "      <td>0.68298</td>\n",
       "      <td>SIPO</td>\n",
       "    </tr>\n",
       "    <tr>\n",
       "      <th>2</th>\n",
       "      <td>2</td>\n",
       "      <td>10638.7</td>\n",
       "      <td>3372.7</td>\n",
       "      <td>0.31702</td>\n",
       "      <td>UVER</td>\n",
       "    </tr>\n",
       "    <tr>\n",
       "      <th>3</th>\n",
       "      <td>3</td>\n",
       "      <td>5001.0</td>\n",
       "      <td>327.0</td>\n",
       "      <td>0.06539</td>\n",
       "      <td>OTHER</td>\n",
       "    </tr>\n",
       "    <tr>\n",
       "      <th>4</th>\n",
       "      <td>3</td>\n",
       "      <td>5001.0</td>\n",
       "      <td>3539.0</td>\n",
       "      <td>0.70766</td>\n",
       "      <td>POJISTNE</td>\n",
       "    </tr>\n",
       "  </tbody>\n",
       "</table>\n",
       "</div>"
      ],
      "text/plain": [
       "   account_id account_spend k_spend k_proportion transaction_type\n",
       "0           1        2452.0  2452.0      1.00000             SIPO\n",
       "1           2       10638.7  7266.0      0.68298             SIPO\n",
       "2           2       10638.7  3372.7      0.31702             UVER\n",
       "3           3        5001.0   327.0      0.06539            OTHER\n",
       "4           3        5001.0  3539.0      0.70766         POJISTNE"
      ]
     },
     "execution_count": 10,
     "metadata": {},
     "output_type": "execute_result"
    }
   ],
   "source": [
    "df2.head()"
   ]
  },
  {
   "cell_type": "code",
   "execution_count": 11,
   "metadata": {},
   "outputs": [],
   "source": [
    "df2 = pd.pivot_table(df2, values='k_proportion', index='account_id', columns='transaction_type', aggfunc=max).fillna(0)"
   ]
  },
  {
   "cell_type": "code",
   "execution_count": 12,
   "metadata": {},
   "outputs": [
    {
     "data": {
      "text/html": [
       "<div>\n",
       "<style scoped>\n",
       "    .dataframe tbody tr th:only-of-type {\n",
       "        vertical-align: middle;\n",
       "    }\n",
       "\n",
       "    .dataframe tbody tr th {\n",
       "        vertical-align: top;\n",
       "    }\n",
       "\n",
       "    .dataframe thead th {\n",
       "        text-align: right;\n",
       "    }\n",
       "</style>\n",
       "<table border=\"1\" class=\"dataframe\">\n",
       "  <thead>\n",
       "    <tr style=\"text-align: right;\">\n",
       "      <th>transaction_type</th>\n",
       "      <th>LEASING</th>\n",
       "      <th>OTHER</th>\n",
       "      <th>POJISTNE</th>\n",
       "      <th>SIPO</th>\n",
       "      <th>UVER</th>\n",
       "    </tr>\n",
       "    <tr>\n",
       "      <th>account_id</th>\n",
       "      <th></th>\n",
       "      <th></th>\n",
       "      <th></th>\n",
       "      <th></th>\n",
       "      <th></th>\n",
       "    </tr>\n",
       "  </thead>\n",
       "  <tbody>\n",
       "    <tr>\n",
       "      <th>1</th>\n",
       "      <td>0</td>\n",
       "      <td>0</td>\n",
       "      <td>0</td>\n",
       "      <td>1.00000</td>\n",
       "      <td>0</td>\n",
       "    </tr>\n",
       "    <tr>\n",
       "      <th>2</th>\n",
       "      <td>0</td>\n",
       "      <td>0</td>\n",
       "      <td>0</td>\n",
       "      <td>0.68298</td>\n",
       "      <td>0.31702</td>\n",
       "    </tr>\n",
       "    <tr>\n",
       "      <th>3</th>\n",
       "      <td>0</td>\n",
       "      <td>0.06539</td>\n",
       "      <td>0.70766</td>\n",
       "      <td>0.22695</td>\n",
       "      <td>0</td>\n",
       "    </tr>\n",
       "    <tr>\n",
       "      <th>4</th>\n",
       "      <td>0</td>\n",
       "      <td>0</td>\n",
       "      <td>0</td>\n",
       "      <td>1.00000</td>\n",
       "      <td>0</td>\n",
       "    </tr>\n",
       "    <tr>\n",
       "      <th>5</th>\n",
       "      <td>0</td>\n",
       "      <td>0</td>\n",
       "      <td>0</td>\n",
       "      <td>1.00000</td>\n",
       "      <td>0</td>\n",
       "    </tr>\n",
       "    <tr>\n",
       "      <th>...</th>\n",
       "      <td>...</td>\n",
       "      <td>...</td>\n",
       "      <td>...</td>\n",
       "      <td>...</td>\n",
       "      <td>...</td>\n",
       "    </tr>\n",
       "    <tr>\n",
       "      <th>11328</th>\n",
       "      <td>0</td>\n",
       "      <td>0</td>\n",
       "      <td>0</td>\n",
       "      <td>0</td>\n",
       "      <td>1.00000</td>\n",
       "    </tr>\n",
       "    <tr>\n",
       "      <th>11333</th>\n",
       "      <td>1.00000</td>\n",
       "      <td>0</td>\n",
       "      <td>0</td>\n",
       "      <td>0</td>\n",
       "      <td>0</td>\n",
       "    </tr>\n",
       "    <tr>\n",
       "      <th>11349</th>\n",
       "      <td>0</td>\n",
       "      <td>0</td>\n",
       "      <td>0</td>\n",
       "      <td>0.60870</td>\n",
       "      <td>0.39130</td>\n",
       "    </tr>\n",
       "    <tr>\n",
       "      <th>11359</th>\n",
       "      <td>0</td>\n",
       "      <td>0.02739</td>\n",
       "      <td>0</td>\n",
       "      <td>0.48715</td>\n",
       "      <td>0.48546</td>\n",
       "    </tr>\n",
       "    <tr>\n",
       "      <th>11362</th>\n",
       "      <td>0</td>\n",
       "      <td>0.01731</td>\n",
       "      <td>0.03088</td>\n",
       "      <td>0.44727</td>\n",
       "      <td>0.50454</td>\n",
       "    </tr>\n",
       "  </tbody>\n",
       "</table>\n",
       "<p>3758 rows × 5 columns</p>\n",
       "</div>"
      ],
      "text/plain": [
       "transaction_type  LEASING    OTHER POJISTNE     SIPO     UVER\n",
       "account_id                                                   \n",
       "1                       0        0        0  1.00000        0\n",
       "2                       0        0        0  0.68298  0.31702\n",
       "3                       0  0.06539  0.70766  0.22695        0\n",
       "4                       0        0        0  1.00000        0\n",
       "5                       0        0        0  1.00000        0\n",
       "...                   ...      ...      ...      ...      ...\n",
       "11328                   0        0        0        0  1.00000\n",
       "11333             1.00000        0        0        0        0\n",
       "11349                   0        0        0  0.60870  0.39130\n",
       "11359                   0  0.02739        0  0.48715  0.48546\n",
       "11362                   0  0.01731  0.03088  0.44727  0.50454\n",
       "\n",
       "[3758 rows x 5 columns]"
      ]
     },
     "execution_count": 12,
     "metadata": {},
     "output_type": "execute_result"
    }
   ],
   "source": [
    "df2"
   ]
  },
  {
   "cell_type": "code",
   "execution_count": 13,
   "metadata": {},
   "outputs": [
    {
     "data": {
      "text/plain": [
       "19468"
      ]
     },
     "execution_count": 13,
     "metadata": {},
     "output_type": "execute_result"
    }
   ],
   "source": [
    "cur.execute(\"\"\"\n",
    "SELECT account_id, operation, AVG(num) FROM \n",
    "(SELECT account_id, EXTRACT(YEAR FROM date) Y, EXTRACT(MONTH FROM date) M,  COUNT(*) num, SUM(amount), operation from trans \n",
    "GROUP BY account_id, Y, M, operation) sub \n",
    "GROUP BY account_id, operation;\n",
    "\"\"\")"
   ]
  },
  {
   "cell_type": "code",
   "execution_count": 14,
   "metadata": {},
   "outputs": [],
   "source": [
    "df3 = pd.DataFrame(cur.fetchall(), columns=['account_id', 'trans_operation', 'avg_per_trans_type'])"
   ]
  },
  {
   "cell_type": "code",
   "execution_count": 15,
   "metadata": {},
   "outputs": [],
   "source": [
    "df3.set_index('account_id', inplace=True)"
   ]
  },
  {
   "cell_type": "code",
   "execution_count": 16,
   "metadata": {},
   "outputs": [],
   "source": [
    "df3 = pd.pivot_table(df3, values='avg_per_trans_type', index='account_id', columns='trans_operation', aggfunc=max).fillna(0)"
   ]
  },
  {
   "cell_type": "code",
   "execution_count": 17,
   "metadata": {},
   "outputs": [],
   "source": [
    "df3.fillna(0, inplace=True)"
   ]
  },
  {
   "cell_type": "code",
   "execution_count": 18,
   "metadata": {},
   "outputs": [
    {
     "data": {
      "text/html": [
       "<div>\n",
       "<style scoped>\n",
       "    .dataframe tbody tr th:only-of-type {\n",
       "        vertical-align: middle;\n",
       "    }\n",
       "\n",
       "    .dataframe tbody tr th {\n",
       "        vertical-align: top;\n",
       "    }\n",
       "\n",
       "    .dataframe thead th {\n",
       "        text-align: right;\n",
       "    }\n",
       "</style>\n",
       "<table border=\"1\" class=\"dataframe\">\n",
       "  <thead>\n",
       "    <tr style=\"text-align: right;\">\n",
       "      <th>trans_operation</th>\n",
       "      <th>PREVOD NA UCET</th>\n",
       "      <th>PREVOD Z UCTU</th>\n",
       "      <th>VKLAD</th>\n",
       "      <th>VYBER</th>\n",
       "      <th>VYBER KARTOU</th>\n",
       "    </tr>\n",
       "    <tr>\n",
       "      <th>account_id</th>\n",
       "      <th></th>\n",
       "      <th></th>\n",
       "      <th></th>\n",
       "      <th></th>\n",
       "      <th></th>\n",
       "    </tr>\n",
       "  </thead>\n",
       "  <tbody>\n",
       "    <tr>\n",
       "      <th>1</th>\n",
       "      <td>1.0000</td>\n",
       "      <td>1.0000</td>\n",
       "      <td>1.0000</td>\n",
       "      <td>2.2558</td>\n",
       "      <td>0</td>\n",
       "    </tr>\n",
       "    <tr>\n",
       "      <th>2</th>\n",
       "      <td>1.3692</td>\n",
       "      <td>1.0000</td>\n",
       "      <td>1.0000</td>\n",
       "      <td>3.4348</td>\n",
       "      <td>0</td>\n",
       "    </tr>\n",
       "    <tr>\n",
       "      <th>3</th>\n",
       "      <td>3.0000</td>\n",
       "      <td>0</td>\n",
       "      <td>1.5556</td>\n",
       "      <td>2.0000</td>\n",
       "      <td>0</td>\n",
       "    </tr>\n",
       "    <tr>\n",
       "      <th>4</th>\n",
       "      <td>1.9667</td>\n",
       "      <td>1.0000</td>\n",
       "      <td>1.0000</td>\n",
       "      <td>2.0667</td>\n",
       "      <td>0</td>\n",
       "    </tr>\n",
       "    <tr>\n",
       "      <th>5</th>\n",
       "      <td>1.0000</td>\n",
       "      <td>1.0000</td>\n",
       "      <td>1.0000</td>\n",
       "      <td>2.3333</td>\n",
       "      <td>0</td>\n",
       "    </tr>\n",
       "    <tr>\n",
       "      <th>...</th>\n",
       "      <td>...</td>\n",
       "      <td>...</td>\n",
       "      <td>...</td>\n",
       "      <td>...</td>\n",
       "      <td>...</td>\n",
       "    </tr>\n",
       "    <tr>\n",
       "      <th>11333</th>\n",
       "      <td>0</td>\n",
       "      <td>0</td>\n",
       "      <td>1.6596</td>\n",
       "      <td>3.3636</td>\n",
       "      <td>0</td>\n",
       "    </tr>\n",
       "    <tr>\n",
       "      <th>11349</th>\n",
       "      <td>1.9744</td>\n",
       "      <td>1.0000</td>\n",
       "      <td>1.0000</td>\n",
       "      <td>3.1628</td>\n",
       "      <td>0</td>\n",
       "    </tr>\n",
       "    <tr>\n",
       "      <th>11359</th>\n",
       "      <td>2.2609</td>\n",
       "      <td>1.0000</td>\n",
       "      <td>1.0000</td>\n",
       "      <td>2.9020</td>\n",
       "      <td>1.8333</td>\n",
       "    </tr>\n",
       "    <tr>\n",
       "      <th>11362</th>\n",
       "      <td>4.7059</td>\n",
       "      <td>0</td>\n",
       "      <td>1.1026</td>\n",
       "      <td>2.7838</td>\n",
       "      <td>0</td>\n",
       "    </tr>\n",
       "    <tr>\n",
       "      <th>11382</th>\n",
       "      <td>0</td>\n",
       "      <td>1.0000</td>\n",
       "      <td>1.0000</td>\n",
       "      <td>3.3000</td>\n",
       "      <td>0</td>\n",
       "    </tr>\n",
       "  </tbody>\n",
       "</table>\n",
       "<p>4500 rows × 5 columns</p>\n",
       "</div>"
      ],
      "text/plain": [
       "trans_operation PREVOD NA UCET PREVOD Z UCTU   VKLAD   VYBER VYBER KARTOU\n",
       "account_id                                                               \n",
       "1                       1.0000        1.0000  1.0000  2.2558            0\n",
       "2                       1.3692        1.0000  1.0000  3.4348            0\n",
       "3                       3.0000             0  1.5556  2.0000            0\n",
       "4                       1.9667        1.0000  1.0000  2.0667            0\n",
       "5                       1.0000        1.0000  1.0000  2.3333            0\n",
       "...                        ...           ...     ...     ...          ...\n",
       "11333                        0             0  1.6596  3.3636            0\n",
       "11349                   1.9744        1.0000  1.0000  3.1628            0\n",
       "11359                   2.2609        1.0000  1.0000  2.9020       1.8333\n",
       "11362                   4.7059             0  1.1026  2.7838            0\n",
       "11382                        0        1.0000  1.0000  3.3000            0\n",
       "\n",
       "[4500 rows x 5 columns]"
      ]
     },
     "execution_count": 18,
     "metadata": {},
     "output_type": "execute_result"
    }
   ],
   "source": [
    "df3"
   ]
  },
  {
   "cell_type": "code",
   "execution_count": 19,
   "metadata": {},
   "outputs": [
    {
     "data": {
      "text/plain": [
       "264"
      ]
     },
     "execution_count": 19,
     "metadata": {},
     "output_type": "execute_result"
    }
   ],
   "source": [
    "cur.execute(\"\"\"\n",
    "SELECT \n",
    "   account_id, \n",
    "   COUNT(*) sanction_count, \n",
    "   SUM(amount) sanction_amount \n",
    "FROM \n",
    "   trans \n",
    "WHERE \n",
    "   k_symbol \n",
    "LIKE \n",
    "   'SANKC. UROK' \n",
    "GROUP BY \n",
    "   account_id;\n",
    "\"\"\")"
   ]
  },
  {
   "cell_type": "code",
   "execution_count": 20,
   "metadata": {},
   "outputs": [],
   "source": [
    "df4 = pd.DataFrame(cur.fetchall(), columns=['account_id', 'sanction_count', 'sanction_amount']).set_index('account_id')"
   ]
  },
  {
   "cell_type": "code",
   "execution_count": 21,
   "metadata": {},
   "outputs": [
    {
     "data": {
      "text/html": [
       "<div>\n",
       "<style scoped>\n",
       "    .dataframe tbody tr th:only-of-type {\n",
       "        vertical-align: middle;\n",
       "    }\n",
       "\n",
       "    .dataframe tbody tr th {\n",
       "        vertical-align: top;\n",
       "    }\n",
       "\n",
       "    .dataframe thead th {\n",
       "        text-align: right;\n",
       "    }\n",
       "</style>\n",
       "<table border=\"1\" class=\"dataframe\">\n",
       "  <thead>\n",
       "    <tr style=\"text-align: right;\">\n",
       "      <th></th>\n",
       "      <th>sanction_count</th>\n",
       "      <th>sanction_amount</th>\n",
       "    </tr>\n",
       "    <tr>\n",
       "      <th>account_id</th>\n",
       "      <th></th>\n",
       "      <th></th>\n",
       "    </tr>\n",
       "  </thead>\n",
       "  <tbody>\n",
       "    <tr>\n",
       "      <th>19</th>\n",
       "      <td>8</td>\n",
       "      <td>58</td>\n",
       "    </tr>\n",
       "    <tr>\n",
       "      <th>37</th>\n",
       "      <td>1</td>\n",
       "      <td>0</td>\n",
       "    </tr>\n",
       "    <tr>\n",
       "      <th>58</th>\n",
       "      <td>2</td>\n",
       "      <td>27</td>\n",
       "    </tr>\n",
       "    <tr>\n",
       "      <th>91</th>\n",
       "      <td>4</td>\n",
       "      <td>66</td>\n",
       "    </tr>\n",
       "    <tr>\n",
       "      <th>102</th>\n",
       "      <td>2</td>\n",
       "      <td>2</td>\n",
       "    </tr>\n",
       "    <tr>\n",
       "      <th>...</th>\n",
       "      <td>...</td>\n",
       "      <td>...</td>\n",
       "    </tr>\n",
       "    <tr>\n",
       "      <th>11295</th>\n",
       "      <td>2</td>\n",
       "      <td>4</td>\n",
       "    </tr>\n",
       "    <tr>\n",
       "      <th>11320</th>\n",
       "      <td>8</td>\n",
       "      <td>109</td>\n",
       "    </tr>\n",
       "    <tr>\n",
       "      <th>11325</th>\n",
       "      <td>10</td>\n",
       "      <td>176</td>\n",
       "    </tr>\n",
       "    <tr>\n",
       "      <th>11333</th>\n",
       "      <td>13</td>\n",
       "      <td>116</td>\n",
       "    </tr>\n",
       "    <tr>\n",
       "      <th>11382</th>\n",
       "      <td>8</td>\n",
       "      <td>22</td>\n",
       "    </tr>\n",
       "  </tbody>\n",
       "</table>\n",
       "<p>264 rows × 2 columns</p>\n",
       "</div>"
      ],
      "text/plain": [
       "            sanction_count sanction_amount\n",
       "account_id                                \n",
       "19                       8              58\n",
       "37                       1               0\n",
       "58                       2              27\n",
       "91                       4              66\n",
       "102                      2               2\n",
       "...                    ...             ...\n",
       "11295                    2               4\n",
       "11320                    8             109\n",
       "11325                   10             176\n",
       "11333                   13             116\n",
       "11382                    8              22\n",
       "\n",
       "[264 rows x 2 columns]"
      ]
     },
     "execution_count": 21,
     "metadata": {},
     "output_type": "execute_result"
    }
   ],
   "source": [
    "df4"
   ]
  },
  {
   "cell_type": "code",
   "execution_count": 22,
   "metadata": {},
   "outputs": [
    {
     "data": {
      "text/plain": [
       "682"
      ]
     },
     "execution_count": 22,
     "metadata": {},
     "output_type": "execute_result"
    }
   ],
   "source": [
    "cur.execute(\"\"\"\n",
    "SELECT  \n",
    "   l.account_id,  \n",
    "   l.amount loan_amount, \n",
    "   l.duration loan_duration, \n",
    "   l.payments loan_payments, \n",
    "   a.district_id,  \n",
    "   d.A4 population,  \n",
    "   d.A11 district_salary,  \n",
    "   d.A12 unemp_95,  \n",
    "   d.A13 unemp_96,  \n",
    "   d.A15/d.A4 crime_rate_95,  \n",
    "   d.A16/d.A4 crime_rate_96  \n",
    "FROM  \n",
    "   loan l,  \n",
    "   account a,  \n",
    "   district d  \n",
    "WHERE  \n",
    "   l.account_id = a.account_id  \n",
    "AND  \n",
    "   a.district_id = d.district_id\n",
    "\"\"\")"
   ]
  },
  {
   "cell_type": "code",
   "execution_count": 23,
   "metadata": {},
   "outputs": [],
   "source": [
    "df5 = pd.DataFrame(cur.fetchall(), \n",
    "                   columns=['account_id', 'loan_amount', 'loan_duration', 'loan_payments', 'district_id', 'population', 'district_salary',\n",
    "                  'unemp_95', 'unemp_96', 'crime_rate_95', 'crime_rate_96']).set_index('account_id')"
   ]
  },
  {
   "cell_type": "code",
   "execution_count": 24,
   "metadata": {},
   "outputs": [
    {
     "data": {
      "text/html": [
       "<div>\n",
       "<style scoped>\n",
       "    .dataframe tbody tr th:only-of-type {\n",
       "        vertical-align: middle;\n",
       "    }\n",
       "\n",
       "    .dataframe tbody tr th {\n",
       "        vertical-align: top;\n",
       "    }\n",
       "\n",
       "    .dataframe thead th {\n",
       "        text-align: right;\n",
       "    }\n",
       "</style>\n",
       "<table border=\"1\" class=\"dataframe\">\n",
       "  <thead>\n",
       "    <tr style=\"text-align: right;\">\n",
       "      <th></th>\n",
       "      <th>loan_amount</th>\n",
       "      <th>loan_duration</th>\n",
       "      <th>loan_payments</th>\n",
       "      <th>population</th>\n",
       "      <th>district_salary</th>\n",
       "      <th>unemp_95</th>\n",
       "      <th>unemp_96</th>\n",
       "      <th>crime_rate_95</th>\n",
       "      <th>crime_rate_96</th>\n",
       "    </tr>\n",
       "    <tr>\n",
       "      <th>account_id</th>\n",
       "      <th></th>\n",
       "      <th></th>\n",
       "      <th></th>\n",
       "      <th></th>\n",
       "      <th></th>\n",
       "      <th></th>\n",
       "      <th></th>\n",
       "      <th></th>\n",
       "      <th></th>\n",
       "    </tr>\n",
       "  </thead>\n",
       "  <tbody>\n",
       "    <tr>\n",
       "      <th>2</th>\n",
       "      <td>80952</td>\n",
       "      <td>24</td>\n",
       "      <td>3373.00</td>\n",
       "      <td>1204953</td>\n",
       "      <td>12541</td>\n",
       "      <td>0.2</td>\n",
       "      <td>0.43</td>\n",
       "      <td>0.0711</td>\n",
       "      <td>0.0822</td>\n",
       "    </tr>\n",
       "    <tr>\n",
       "      <th>19</th>\n",
       "      <td>30276</td>\n",
       "      <td>12</td>\n",
       "      <td>2523.00</td>\n",
       "      <td>103347</td>\n",
       "      <td>9104</td>\n",
       "      <td>1.5</td>\n",
       "      <td>2.07</td>\n",
       "      <td>0.0222</td>\n",
       "      <td>0.0228</td>\n",
       "    </tr>\n",
       "    <tr>\n",
       "      <th>25</th>\n",
       "      <td>30276</td>\n",
       "      <td>12</td>\n",
       "      <td>2523.00</td>\n",
       "      <td>228848</td>\n",
       "      <td>9893</td>\n",
       "      <td>4.0</td>\n",
       "      <td>4.72</td>\n",
       "      <td>0.0246</td>\n",
       "      <td>0.0257</td>\n",
       "    </tr>\n",
       "    <tr>\n",
       "      <th>37</th>\n",
       "      <td>318480</td>\n",
       "      <td>60</td>\n",
       "      <td>5308.00</td>\n",
       "      <td>70646</td>\n",
       "      <td>8547</td>\n",
       "      <td>2.6</td>\n",
       "      <td>3.64</td>\n",
       "      <td>0.0221</td>\n",
       "      <td>0.0218</td>\n",
       "    </tr>\n",
       "    <tr>\n",
       "      <th>38</th>\n",
       "      <td>110736</td>\n",
       "      <td>48</td>\n",
       "      <td>2307.00</td>\n",
       "      <td>51428</td>\n",
       "      <td>8402</td>\n",
       "      <td>3.1</td>\n",
       "      <td>3.98</td>\n",
       "      <td>0.0194</td>\n",
       "      <td>0.0214</td>\n",
       "    </tr>\n",
       "  </tbody>\n",
       "</table>\n",
       "</div>"
      ],
      "text/plain": [
       "            loan_amount  loan_duration loan_payments  population  \\\n",
       "account_id                                                         \n",
       "2                 80952             24       3373.00     1204953   \n",
       "19                30276             12       2523.00      103347   \n",
       "25                30276             12       2523.00      228848   \n",
       "37               318480             60       5308.00       70646   \n",
       "38               110736             48       2307.00       51428   \n",
       "\n",
       "            district_salary unemp_95 unemp_96 crime_rate_95 crime_rate_96  \n",
       "account_id                                                                 \n",
       "2                     12541      0.2     0.43        0.0711        0.0822  \n",
       "19                     9104      1.5     2.07        0.0222        0.0228  \n",
       "25                     9893      4.0     4.72        0.0246        0.0257  \n",
       "37                     8547      2.6     3.64        0.0221        0.0218  \n",
       "38                     8402      3.1     3.98        0.0194        0.0214  "
      ]
     },
     "execution_count": 24,
     "metadata": {},
     "output_type": "execute_result"
    }
   ],
   "source": [
    "df5.drop('district_id', axis=1, inplace=True)\n",
    "df5.head()"
   ]
  },
  {
   "cell_type": "code",
   "execution_count": 25,
   "metadata": {},
   "outputs": [
    {
     "data": {
      "text/plain": [
       "682"
      ]
     },
     "execution_count": 25,
     "metadata": {},
     "output_type": "execute_result"
    }
   ],
   "source": [
    "cur.execute(\"\"\"\n",
    "SELECT \n",
    "      c.client_id client_id, \n",
    "      d.account_id, \n",
    "      d.type, \n",
    "      c.gender gender, \n",
    "      c.birth_date birthdate, \n",
    "      c.district_id district_id, \n",
    "      l.loan_id, \n",
    "      l.date loan_date, \n",
    "      EXTRACT(YEAR from l.date) - EXTRACT(YEAR from c.birth_date) age_at_loan, \n",
    "      CASE WHEN ca.type LIKE 'junior' THEN 0 WHEN ca.type LIKE 'classic' THEN 1 WHEN ca.type LIKE 'gold' THEN 2 ELSE 3 END card_type\n",
    "   FROM \n",
    "      client c \n",
    "   INNER JOIN \n",
    "      disp d \n",
    "   ON \n",
    "      c.client_id = d.client_id \n",
    "   INNER JOIN \n",
    "      loan l \n",
    "   ON \n",
    "      d.account_id = l.account_id \n",
    "   LEFT OUTER JOIN\n",
    "      card ca\n",
    "   ON\n",
    "      ca.disp_id = d.disp_id\n",
    "   WHERE \n",
    "      d.type = 'OWNER'\n",
    "\"\"\")"
   ]
  },
  {
   "cell_type": "code",
   "execution_count": 26,
   "metadata": {},
   "outputs": [],
   "source": [
    "df6 = pd.DataFrame(cur.fetchall(), columns=['client_id', 'account_id', 'disp_type', 'gender', 'birthdate', 'district_id', 'loan_id', 'loan_date', 'age_at_loan', 'card_type']).set_index('account_id')"
   ]
  },
  {
   "cell_type": "code",
   "execution_count": 27,
   "metadata": {},
   "outputs": [
    {
     "data": {
      "text/html": [
       "<div>\n",
       "<style scoped>\n",
       "    .dataframe tbody tr th:only-of-type {\n",
       "        vertical-align: middle;\n",
       "    }\n",
       "\n",
       "    .dataframe tbody tr th {\n",
       "        vertical-align: top;\n",
       "    }\n",
       "\n",
       "    .dataframe thead th {\n",
       "        text-align: right;\n",
       "    }\n",
       "</style>\n",
       "<table border=\"1\" class=\"dataframe\">\n",
       "  <thead>\n",
       "    <tr style=\"text-align: right;\">\n",
       "      <th></th>\n",
       "      <th>client_id</th>\n",
       "      <th>disp_type</th>\n",
       "      <th>gender</th>\n",
       "      <th>birthdate</th>\n",
       "      <th>district_id</th>\n",
       "      <th>loan_id</th>\n",
       "      <th>loan_date</th>\n",
       "      <th>age_at_loan</th>\n",
       "      <th>card_type</th>\n",
       "    </tr>\n",
       "    <tr>\n",
       "      <th>account_id</th>\n",
       "      <th></th>\n",
       "      <th></th>\n",
       "      <th></th>\n",
       "      <th></th>\n",
       "      <th></th>\n",
       "      <th></th>\n",
       "      <th></th>\n",
       "      <th></th>\n",
       "      <th></th>\n",
       "    </tr>\n",
       "  </thead>\n",
       "  <tbody>\n",
       "    <tr>\n",
       "      <th>2</th>\n",
       "      <td>2</td>\n",
       "      <td>OWNER</td>\n",
       "      <td>M</td>\n",
       "      <td>1945-02-04</td>\n",
       "      <td>1</td>\n",
       "      <td>4959</td>\n",
       "      <td>1994-01-05</td>\n",
       "      <td>49</td>\n",
       "      <td>3</td>\n",
       "    </tr>\n",
       "    <tr>\n",
       "      <th>19</th>\n",
       "      <td>25</td>\n",
       "      <td>OWNER</td>\n",
       "      <td>F</td>\n",
       "      <td>1939-04-23</td>\n",
       "      <td>21</td>\n",
       "      <td>4961</td>\n",
       "      <td>1996-04-29</td>\n",
       "      <td>57</td>\n",
       "      <td>3</td>\n",
       "    </tr>\n",
       "    <tr>\n",
       "      <th>25</th>\n",
       "      <td>31</td>\n",
       "      <td>OWNER</td>\n",
       "      <td>M</td>\n",
       "      <td>1962-02-09</td>\n",
       "      <td>68</td>\n",
       "      <td>4962</td>\n",
       "      <td>1997-12-08</td>\n",
       "      <td>35</td>\n",
       "      <td>3</td>\n",
       "    </tr>\n",
       "    <tr>\n",
       "      <th>37</th>\n",
       "      <td>45</td>\n",
       "      <td>OWNER</td>\n",
       "      <td>M</td>\n",
       "      <td>1952-08-26</td>\n",
       "      <td>20</td>\n",
       "      <td>4967</td>\n",
       "      <td>1998-10-14</td>\n",
       "      <td>46</td>\n",
       "      <td>3</td>\n",
       "    </tr>\n",
       "    <tr>\n",
       "      <th>38</th>\n",
       "      <td>46</td>\n",
       "      <td>OWNER</td>\n",
       "      <td>F</td>\n",
       "      <td>1940-01-30</td>\n",
       "      <td>19</td>\n",
       "      <td>4968</td>\n",
       "      <td>1998-04-19</td>\n",
       "      <td>58</td>\n",
       "      <td>3</td>\n",
       "    </tr>\n",
       "  </tbody>\n",
       "</table>\n",
       "</div>"
      ],
      "text/plain": [
       "            client_id disp_type gender   birthdate  district_id  loan_id  \\\n",
       "account_id                                                                 \n",
       "2                   2     OWNER      M  1945-02-04            1     4959   \n",
       "19                 25     OWNER      F  1939-04-23           21     4961   \n",
       "25                 31     OWNER      M  1962-02-09           68     4962   \n",
       "37                 45     OWNER      M  1952-08-26           20     4967   \n",
       "38                 46     OWNER      F  1940-01-30           19     4968   \n",
       "\n",
       "             loan_date  age_at_loan  card_type  \n",
       "account_id                                      \n",
       "2           1994-01-05           49          3  \n",
       "19          1996-04-29           57          3  \n",
       "25          1997-12-08           35          3  \n",
       "37          1998-10-14           46          3  \n",
       "38          1998-04-19           58          3  "
      ]
     },
     "execution_count": 27,
     "metadata": {},
     "output_type": "execute_result"
    }
   ],
   "source": [
    "df6.head()"
   ]
  },
  {
   "cell_type": "code",
   "execution_count": 28,
   "metadata": {},
   "outputs": [],
   "source": [
    "df = df1.join(df2, how='inner').join(df3, how='inner').join(df4, how='left').join(df5, how='inner').join(df6.drop('district_id', axis=1))"
   ]
  },
  {
   "cell_type": "code",
   "execution_count": 29,
   "metadata": {},
   "outputs": [],
   "source": [
    "# Creating 1,2 and 3 month windows prior to loan date\n",
    "lag_dict = {}\n",
    "\n",
    "for i in [1,2,3]:\n",
    "\n",
    "    cur.execute(\"SELECT t.account_id, SUM(t.amount * CASE WHEN t.type LIKE 'PRIJEM' THEN 1 WHEN t.type LIKE 'VYDAJ' OR t.type LIKE 'VYBER' THEN -1 END) net FROM trans t, loan l WHERE t.account_id = l.account_id AND t.date BETWEEN DATE_SUB(l.date, INTERVAL %s MONTH) AND l.date GROUP BY t.account_id;\", (i,))\n",
    "    \n",
    "    lag_dict[i] = cur.fetchall()\n",
    "    if i == 1:\n",
    "        temp_df = pd.DataFrame(lag_dict[i], columns=['account_id', f'month_{i}_lag'])\n",
    "        temp_df.set_index('account_id', inplace=True)\n",
    "    if i > 1:\n",
    "        temp_df2 =  pd.DataFrame(lag_dict[i], columns=['account_id', f'month_{i}_lag'])\n",
    "        temp_df2.set_index('account_id', inplace=True)\n",
    "        temp_df = temp_df.join(temp_df2)\n",
    "        "
   ]
  },
  {
   "cell_type": "code",
   "execution_count": 30,
   "metadata": {},
   "outputs": [],
   "source": [
    "df = df.join(temp_df)"
   ]
  },
  {
   "cell_type": "code",
   "execution_count": 31,
   "metadata": {},
   "outputs": [],
   "source": [
    "df.drop(['client_id', 'disp_type', 'birthdate', 'loan_id', 'loan_date'], axis=1, inplace=True)"
   ]
  },
  {
   "cell_type": "code",
   "execution_count": 32,
   "metadata": {},
   "outputs": [],
   "source": [
    "df['gender'] = df['gender'].map({'M':0,\n",
    "                                'F':1})"
   ]
  },
  {
   "cell_type": "code",
   "execution_count": 33,
   "metadata": {},
   "outputs": [
    {
     "name": "stdout",
     "output_type": "stream",
     "text": [
      "credit ----- object\n",
      "debit ----- object\n",
      "net ----- object\n",
      "loan_status ----- int64\n",
      "LEASING ----- object\n",
      "OTHER ----- object\n",
      "POJISTNE ----- object\n",
      "SIPO ----- object\n",
      "UVER ----- object\n",
      "PREVOD NA UCET ----- object\n",
      "PREVOD Z UCTU ----- object\n",
      "VKLAD ----- object\n",
      "VYBER ----- object\n",
      "VYBER KARTOU ----- object\n",
      "sanction_count ----- float64\n",
      "sanction_amount ----- object\n",
      "loan_amount ----- int64\n",
      "loan_duration ----- int64\n",
      "loan_payments ----- object\n",
      "population ----- int64\n",
      "district_salary ----- int64\n",
      "unemp_95 ----- object\n",
      "unemp_96 ----- object\n",
      "crime_rate_95 ----- object\n",
      "crime_rate_96 ----- object\n",
      "gender ----- int64\n",
      "age_at_loan ----- int64\n",
      "card_type ----- int64\n",
      "month_1_lag ----- object\n",
      "month_2_lag ----- object\n",
      "month_3_lag ----- object\n"
     ]
    }
   ],
   "source": [
    "for col in df.columns:\n",
    "    print(col, '-----', df[col].dtype)"
   ]
  },
  {
   "cell_type": "code",
   "execution_count": 34,
   "metadata": {},
   "outputs": [],
   "source": [
    "for col in df.columns:\n",
    "    df[col] = pd.to_numeric(df[col], errors='coerce')"
   ]
  },
  {
   "cell_type": "code",
   "execution_count": 35,
   "metadata": {},
   "outputs": [
    {
     "name": "stdout",
     "output_type": "stream",
     "text": [
      "credit ----- float64\n",
      "debit ----- float64\n",
      "net ----- float64\n",
      "loan_status ----- int64\n",
      "LEASING ----- int64\n",
      "OTHER ----- float64\n",
      "POJISTNE ----- float64\n",
      "SIPO ----- float64\n",
      "UVER ----- float64\n",
      "PREVOD NA UCET ----- float64\n",
      "PREVOD Z UCTU ----- float64\n",
      "VKLAD ----- float64\n",
      "VYBER ----- float64\n",
      "VYBER KARTOU ----- float64\n",
      "sanction_count ----- float64\n",
      "sanction_amount ----- float64\n",
      "loan_amount ----- int64\n",
      "loan_duration ----- int64\n",
      "loan_payments ----- float64\n",
      "population ----- int64\n",
      "district_salary ----- int64\n",
      "unemp_95 ----- float64\n",
      "unemp_96 ----- float64\n",
      "crime_rate_95 ----- float64\n",
      "crime_rate_96 ----- float64\n",
      "gender ----- int64\n",
      "age_at_loan ----- int64\n",
      "card_type ----- int64\n",
      "month_1_lag ----- float64\n",
      "month_2_lag ----- float64\n",
      "month_3_lag ----- float64\n"
     ]
    }
   ],
   "source": [
    "for col in df.columns:\n",
    "    print(col, '-----', df[col].dtype)"
   ]
  },
  {
   "cell_type": "code",
   "execution_count": 36,
   "metadata": {},
   "outputs": [
    {
     "name": "stderr",
     "output_type": "stream",
     "text": [
      "/home/grant/anaconda3/lib/python3.7/site-packages/statsmodels/tools/_testing.py:19: FutureWarning: pandas.util.testing is deprecated. Use the functions in the public API at pandas.testing instead.\n",
      "  import pandas.util.testing as tm\n"
     ]
    }
   ],
   "source": [
    "import matplotlib.pyplot as plt\n",
    "import seaborn as sns"
   ]
  },
  {
   "cell_type": "code",
   "execution_count": 37,
   "metadata": {},
   "outputs": [
    {
     "data": {
      "text/plain": [
       "2    403\n",
       "0    203\n",
       "3     45\n",
       "1     31\n",
       "Name: loan_status, dtype: int64"
      ]
     },
     "execution_count": 37,
     "metadata": {},
     "output_type": "execute_result"
    }
   ],
   "source": [
    "df['loan_status'].value_counts()"
   ]
  },
  {
   "cell_type": "code",
   "execution_count": 38,
   "metadata": {},
   "outputs": [],
   "source": [
    "df['default'] = df['loan_status'].map({0:0,\n",
    "                                      1:1,\n",
    "                                      2:0,\n",
    "                                      3:1})"
   ]
  },
  {
   "cell_type": "code",
   "execution_count": 39,
   "metadata": {},
   "outputs": [
    {
     "data": {
      "text/plain": [
       "0    606\n",
       "1     76\n",
       "Name: default, dtype: int64"
      ]
     },
     "execution_count": 39,
     "metadata": {},
     "output_type": "execute_result"
    }
   ],
   "source": [
    "df['default'].value_counts()"
   ]
  },
  {
   "cell_type": "code",
   "execution_count": 40,
   "metadata": {},
   "outputs": [],
   "source": [
    "df.fillna(0, inplace=True)"
   ]
  },
  {
   "cell_type": "code",
   "execution_count": 41,
   "metadata": {},
   "outputs": [],
   "source": [
    "from sklearn.ensemble import RandomForestClassifier\n",
    "from sklearn.model_selection import train_test_split"
   ]
  },
  {
   "cell_type": "code",
   "execution_count": 42,
   "metadata": {},
   "outputs": [],
   "source": [
    "X = df[df.columns[~df.columns.isin(['loan_status', 'default'])]]\n",
    "y = df['default']"
   ]
  },
  {
   "cell_type": "code",
   "execution_count": 43,
   "metadata": {},
   "outputs": [],
   "source": [
    "clf = RandomForestClassifier(max_depth=5)\n",
    "X_train, x_test, y_train, y_test = train_test_split(X,y)"
   ]
  },
  {
   "cell_type": "code",
   "execution_count": 44,
   "metadata": {},
   "outputs": [
    {
     "name": "stderr",
     "output_type": "stream",
     "text": [
      "/home/grant/anaconda3/lib/python3.7/site-packages/sklearn/ensemble/forest.py:245: FutureWarning: The default value of n_estimators will change from 10 in version 0.20 to 100 in 0.22.\n",
      "  \"10 in version 0.20 to 100 in 0.22.\", FutureWarning)\n"
     ]
    }
   ],
   "source": [
    "clf = clf.fit(X_train,y_train)"
   ]
  },
  {
   "cell_type": "code",
   "execution_count": 45,
   "metadata": {},
   "outputs": [],
   "source": [
    "from sklearn import tree"
   ]
  },
  {
   "cell_type": "code",
   "execution_count": 46,
   "metadata": {},
   "outputs": [
    {
     "data": {
      "text/plain": [
       "account_id\n",
       "8159     2.7778\n",
       "6902     2.6000\n",
       "4995     2.9608\n",
       "825      2.9063\n",
       "9633     3.9412\n",
       "          ...  \n",
       "7733     4.2414\n",
       "4715     2.8462\n",
       "10884    2.8889\n",
       "3608     2.8077\n",
       "4268     2.9048\n",
       "Name: VYBER, Length: 511, dtype: float64"
      ]
     },
     "execution_count": 46,
     "metadata": {},
     "output_type": "execute_result"
    }
   ],
   "source": [
    "X_train['VYBER']"
   ]
  },
  {
   "cell_type": "code",
   "execution_count": 47,
   "metadata": {},
   "outputs": [
    {
     "name": "stdout",
     "output_type": "stream",
     "text": [
      "0 --- credit\n",
      "1 --- debit\n",
      "2 --- net\n",
      "3 --- LEASING\n",
      "4 --- OTHER\n",
      "5 --- POJISTNE\n",
      "6 --- SIPO\n",
      "7 --- UVER\n",
      "8 --- PREVOD NA UCET\n",
      "9 --- PREVOD Z UCTU\n",
      "10 --- VKLAD\n",
      "11 --- VYBER\n",
      "12 --- VYBER KARTOU\n",
      "13 --- sanction_count\n",
      "14 --- sanction_amount\n",
      "15 --- loan_amount\n",
      "16 --- loan_duration\n",
      "17 --- loan_payments\n",
      "18 --- population\n",
      "19 --- district_salary\n",
      "20 --- unemp_95\n",
      "21 --- unemp_96\n",
      "22 --- crime_rate_95\n",
      "23 --- crime_rate_96\n",
      "24 --- gender\n",
      "25 --- age_at_loan\n",
      "26 --- card_type\n",
      "27 --- month_1_lag\n",
      "28 --- month_2_lag\n",
      "29 --- month_3_lag\n"
     ]
    },
    {
     "data": {
      "image/png": "[encoded data removed]",
      "text/plain": [
       "<Figure size 2160x1296 with 1 Axes>"
      ]
     },
     "metadata": {
      "needs_background": "light"
     },
     "output_type": "display_data"
    }
   ],
   "source": [
    "fig,ax = plt.subplots(figsize=(30,18))\n",
    "tree.plot_tree(clf.estimators_[1], ax=ax)\n",
    "for num,col in enumerate(X_train.columns):\n",
    "    print(num, '---', col)"
   ]
  },
  {
   "cell_type": "code",
   "execution_count": 48,
   "metadata": {},
   "outputs": [
    {
     "data": {
      "text/plain": [
       "([0,\n",
       "  1,\n",
       "  2,\n",
       "  3,\n",
       "  4,\n",
       "  5,\n",
       "  6,\n",
       "  7,\n",
       "  8,\n",
       "  9,\n",
       "  10,\n",
       "  11,\n",
       "  12,\n",
       "  13,\n",
       "  14,\n",
       "  15,\n",
       "  16,\n",
       "  17,\n",
       "  18,\n",
       "  19,\n",
       "  20,\n",
       "  21,\n",
       "  22,\n",
       "  23,\n",
       "  24,\n",
       "  25,\n",
       "  26,\n",
       "  27,\n",
       "  28,\n",
       "  29],\n",
       " <a list of 30 Text xticklabel objects>)"
      ]
     },
     "execution_count": 48,
     "metadata": {},
     "output_type": "execute_result"
    },
    {
     "data": {
      "image/png": "[encoded data removed]",
      "text/plain": [
       "<Figure size 1152x720 with 1 Axes>"
      ]
     },
     "metadata": {
      "needs_background": "light"
     },
     "output_type": "display_data"
    }
   ],
   "source": [
    "plt.figure(figsize=(16,10))\n",
    "plt.bar(X.columns, clf.feature_importances_)\n",
    "plt.xticks(rotation=45)"
   ]
  },
  {
   "cell_type": "code",
   "execution_count": 49,
   "metadata": {},
   "outputs": [],
   "source": [
    "y_pred = clf.predict(x_test)\n",
    "y_true = y_test.values"
   ]
  },
  {
   "cell_type": "code",
   "execution_count": 50,
   "metadata": {},
   "outputs": [],
   "source": [
    "confusion = np.zeros([2,2])"
   ]
  },
  {
   "cell_type": "code",
   "execution_count": 51,
   "metadata": {},
   "outputs": [],
   "source": [
    "for i in range(y_pred.shape[0]):\n",
    "    if y_pred[i] == 0 and y_true[i] == 0:\n",
    "        confusion[0,0] += 1\n",
    "    elif y_pred[i] == 1 and y_true[i] == 0:\n",
    "        confusion[0,1] += 1\n",
    "    elif y_pred[i] == 0 and y_true[i] == 1:\n",
    "        confusion[1,0] += 1\n",
    "    elif y_pred[i] == 1 and y_true[i] == 1:\n",
    "        confusion[1,1] += 1\n",
    "    "
   ]
  },
  {
   "cell_type": "code",
   "execution_count": 52,
   "metadata": {},
   "outputs": [
    {
     "data": {
      "text/plain": [
       "Text(33.0, 0.5, 'Actual')"
      ]
     },
     "execution_count": 52,
     "metadata": {},
     "output_type": "execute_result"
    },
    {
     "data": {
      "image/png": "[encoded data removed]",
      "text/plain": [
       "<Figure size 432x288 with 2 Axes>"
      ]
     },
     "metadata": {
      "needs_background": "light"
     },
     "output_type": "display_data"
    }
   ],
   "source": [
    "sns.heatmap(confusion, annot=confusion)\n",
    "plt.xlabel('Predicted')\n",
    "plt.ylabel('Actual')"
   ]
  },
  {
   "cell_type": "code",
   "execution_count": 53,
   "metadata": {},
   "outputs": [],
   "source": [
    "from sklearn.metrics import confusion_matrix\n",
    "from sklearn.metrics import classification_report"
   ]
  },
  {
   "cell_type": "code",
   "execution_count": 54,
   "metadata": {},
   "outputs": [
    {
     "name": "stdout",
     "output_type": "stream",
     "text": [
      "[[155   1]\n",
      " [  2  13]]\n",
      "True Positive = 88.0\n",
      "True Negative = 98.63013698630137\n"
     ]
    }
   ],
   "source": [
    "print(confusion_matrix(y_true, y_pred))\n",
    "print(f'True Positive = {22/25*100}')\n",
    "print(f'True Negative = {144/146*100}')"
   ]
  },
  {
   "cell_type": "code",
   "execution_count": 55,
   "metadata": {},
   "outputs": [
    {
     "name": "stdout",
     "output_type": "stream",
     "text": [
      "              precision    recall  f1-score   support\n",
      "\n",
      "           0       0.99      0.99      0.99       156\n",
      "           1       0.93      0.87      0.90        15\n",
      "\n",
      "    accuracy                           0.98       171\n",
      "   macro avg       0.96      0.93      0.94       171\n",
      "weighted avg       0.98      0.98      0.98       171\n",
      "\n"
     ]
    }
   ],
   "source": [
    "print(classification_report(y_true, y_pred))"
   ]
  },
  {
   "cell_type": "code",
   "execution_count": 56,
   "metadata": {},
   "outputs": [],
   "source": [
    "from sklearn.decomposition import PCA"
   ]
  },
  {
   "cell_type": "code",
   "execution_count": 57,
   "metadata": {},
   "outputs": [],
   "source": [
    "pca = PCA(n_components=3)"
   ]
  },
  {
   "cell_type": "code",
   "execution_count": 58,
   "metadata": {},
   "outputs": [],
   "source": [
    "pca_X = (X - X.mean())/(X.std()+0.000001)"
   ]
  },
  {
   "cell_type": "code",
   "execution_count": 63,
   "metadata": {},
   "outputs": [
    {
     "data": {
      "text/plain": [
       "array([[ 4.80411529, -0.99994727, -1.06157003],\n",
       "       [-0.78373833,  0.34575266,  1.85822488],\n",
       "       [-0.96682471, -0.28620664, -2.90632088],\n",
       "       ...,\n",
       "       [ 4.87837567,  0.02189927, -0.2708558 ],\n",
       "       [-1.60291788,  0.81155114, -2.18674135],\n",
       "       [-2.19043942, -1.4047992 , -0.23905954]])"
      ]
     },
     "execution_count": 63,
     "metadata": {},
     "output_type": "execute_result"
    }
   ],
   "source": [
    "pca.fit_transform(pca_X)"
   ]
  },
  {
   "cell_type": "code",
   "execution_count": 96,
   "metadata": {},
   "outputs": [
    {
     "data": {
      "text/html": [
       "<div>\n",
       "<style scoped>\n",
       "    .dataframe tbody tr th:only-of-type {\n",
       "        vertical-align: middle;\n",
       "    }\n",
       "\n",
       "    .dataframe tbody tr th {\n",
       "        vertical-align: top;\n",
       "    }\n",
       "\n",
       "    .dataframe thead th {\n",
       "        text-align: right;\n",
       "    }\n",
       "</style>\n",
       "<table border=\"1\" class=\"dataframe\">\n",
       "  <thead>\n",
       "    <tr style=\"text-align: right;\">\n",
       "      <th></th>\n",
       "      <th>0</th>\n",
       "      <th>1</th>\n",
       "      <th>2</th>\n",
       "    </tr>\n",
       "  </thead>\n",
       "  <tbody>\n",
       "    <tr>\n",
       "      <th>unemp_96</th>\n",
       "      <td>-3.071706e-01</td>\n",
       "      <td>8.401648e-02</td>\n",
       "      <td>-9.070744e-02</td>\n",
       "    </tr>\n",
       "    <tr>\n",
       "      <th>unemp_95</th>\n",
       "      <td>-2.885163e-01</td>\n",
       "      <td>6.293018e-02</td>\n",
       "      <td>-1.091326e-01</td>\n",
       "    </tr>\n",
       "    <tr>\n",
       "      <th>card_type</th>\n",
       "      <td>-6.520484e-02</td>\n",
       "      <td>-1.213292e-01</td>\n",
       "      <td>1.833469e-01</td>\n",
       "    </tr>\n",
       "    <tr>\n",
       "      <th>age_at_loan</th>\n",
       "      <td>-6.163110e-02</td>\n",
       "      <td>-6.301897e-02</td>\n",
       "      <td>1.506546e-03</td>\n",
       "    </tr>\n",
       "    <tr>\n",
       "      <th>SIPO</th>\n",
       "      <td>-4.716162e-02</td>\n",
       "      <td>-2.468338e-01</td>\n",
       "      <td>-2.602934e-01</td>\n",
       "    </tr>\n",
       "    <tr>\n",
       "      <th>loan_duration</th>\n",
       "      <td>-4.484951e-02</td>\n",
       "      <td>-4.327257e-02</td>\n",
       "      <td>1.882901e-01</td>\n",
       "    </tr>\n",
       "    <tr>\n",
       "      <th>PREVOD NA UCET</th>\n",
       "      <td>-4.428757e-02</td>\n",
       "      <td>-2.493158e-01</td>\n",
       "      <td>-2.320356e-01</td>\n",
       "    </tr>\n",
       "    <tr>\n",
       "      <th>PREVOD Z UCTU</th>\n",
       "      <td>-1.504152e-02</td>\n",
       "      <td>4.414658e-02</td>\n",
       "      <td>-2.708604e-02</td>\n",
       "    </tr>\n",
       "    <tr>\n",
       "      <th>OTHER</th>\n",
       "      <td>-1.414581e-02</td>\n",
       "      <td>-1.475719e-01</td>\n",
       "      <td>-1.719662e-01</td>\n",
       "    </tr>\n",
       "    <tr>\n",
       "      <th>POJISTNE</th>\n",
       "      <td>-1.405359e-03</td>\n",
       "      <td>-1.258528e-01</td>\n",
       "      <td>-1.026916e-01</td>\n",
       "    </tr>\n",
       "    <tr>\n",
       "      <th>LEASING</th>\n",
       "      <td>7.878519e-19</td>\n",
       "      <td>-1.415864e-19</td>\n",
       "      <td>-1.457194e-17</td>\n",
       "    </tr>\n",
       "    <tr>\n",
       "      <th>sanction_count</th>\n",
       "      <td>1.202899e-03</td>\n",
       "      <td>9.633819e-02</td>\n",
       "      <td>3.077573e-01</td>\n",
       "    </tr>\n",
       "    <tr>\n",
       "      <th>sanction_amount</th>\n",
       "      <td>8.638519e-03</td>\n",
       "      <td>6.363664e-02</td>\n",
       "      <td>3.076935e-01</td>\n",
       "    </tr>\n",
       "    <tr>\n",
       "      <th>gender</th>\n",
       "      <td>1.118073e-02</td>\n",
       "      <td>-5.831676e-03</td>\n",
       "      <td>3.885483e-02</td>\n",
       "    </tr>\n",
       "    <tr>\n",
       "      <th>month_1_lag</th>\n",
       "      <td>2.274798e-02</td>\n",
       "      <td>-1.026661e-02</td>\n",
       "      <td>1.110139e-01</td>\n",
       "    </tr>\n",
       "    <tr>\n",
       "      <th>month_3_lag</th>\n",
       "      <td>2.624591e-02</td>\n",
       "      <td>-2.699077e-02</td>\n",
       "      <td>1.073440e-01</td>\n",
       "    </tr>\n",
       "    <tr>\n",
       "      <th>loan_amount</th>\n",
       "      <td>2.985463e-02</td>\n",
       "      <td>1.424826e-01</td>\n",
       "      <td>2.876788e-01</td>\n",
       "    </tr>\n",
       "    <tr>\n",
       "      <th>month_2_lag</th>\n",
       "      <td>3.668412e-02</td>\n",
       "      <td>-6.262500e-03</td>\n",
       "      <td>1.365491e-01</td>\n",
       "    </tr>\n",
       "    <tr>\n",
       "      <th>UVER</th>\n",
       "      <td>5.012010e-02</td>\n",
       "      <td>3.278189e-01</td>\n",
       "      <td>3.462544e-01</td>\n",
       "    </tr>\n",
       "    <tr>\n",
       "      <th>VKLAD</th>\n",
       "      <td>5.358283e-02</td>\n",
       "      <td>1.660787e-01</td>\n",
       "      <td>-6.372283e-02</td>\n",
       "    </tr>\n",
       "    <tr>\n",
       "      <th>loan_payments</th>\n",
       "      <td>6.427184e-02</td>\n",
       "      <td>2.328446e-01</td>\n",
       "      <td>1.972113e-01</td>\n",
       "    </tr>\n",
       "    <tr>\n",
       "      <th>VYBER KARTOU</th>\n",
       "      <td>6.447563e-02</td>\n",
       "      <td>1.033107e-01</td>\n",
       "      <td>-2.006119e-01</td>\n",
       "    </tr>\n",
       "    <tr>\n",
       "      <th>VYBER</th>\n",
       "      <td>6.973339e-02</td>\n",
       "      <td>3.456148e-01</td>\n",
       "      <td>-1.051349e-01</td>\n",
       "    </tr>\n",
       "    <tr>\n",
       "      <th>net</th>\n",
       "      <td>9.007007e-02</td>\n",
       "      <td>3.747503e-01</td>\n",
       "      <td>-2.065131e-01</td>\n",
       "    </tr>\n",
       "    <tr>\n",
       "      <th>debit</th>\n",
       "      <td>1.116433e-01</td>\n",
       "      <td>3.541016e-01</td>\n",
       "      <td>-2.971397e-01</td>\n",
       "    </tr>\n",
       "    <tr>\n",
       "      <th>credit</th>\n",
       "      <td>1.129937e-01</td>\n",
       "      <td>3.751573e-01</td>\n",
       "      <td>-2.944803e-01</td>\n",
       "    </tr>\n",
       "    <tr>\n",
       "      <th>crime_rate_95</th>\n",
       "      <td>4.229289e-01</td>\n",
       "      <td>-1.055408e-01</td>\n",
       "      <td>-1.445475e-02</td>\n",
       "    </tr>\n",
       "    <tr>\n",
       "      <th>district_salary</th>\n",
       "      <td>4.347707e-01</td>\n",
       "      <td>-1.060820e-01</td>\n",
       "      <td>-1.073617e-02</td>\n",
       "    </tr>\n",
       "    <tr>\n",
       "      <th>population</th>\n",
       "      <td>4.367105e-01</td>\n",
       "      <td>-1.101762e-01</td>\n",
       "      <td>8.074963e-03</td>\n",
       "    </tr>\n",
       "    <tr>\n",
       "      <th>crime_rate_96</th>\n",
       "      <td>4.399953e-01</td>\n",
       "      <td>-1.036348e-01</td>\n",
       "      <td>-1.912875e-03</td>\n",
       "    </tr>\n",
       "  </tbody>\n",
       "</table>\n",
       "</div>"
      ],
      "text/plain": [
       "                            0             1             2\n",
       "unemp_96        -3.071706e-01  8.401648e-02 -9.070744e-02\n",
       "unemp_95        -2.885163e-01  6.293018e-02 -1.091326e-01\n",
       "card_type       -6.520484e-02 -1.213292e-01  1.833469e-01\n",
       "age_at_loan     -6.163110e-02 -6.301897e-02  1.506546e-03\n",
       "SIPO            -4.716162e-02 -2.468338e-01 -2.602934e-01\n",
       "loan_duration   -4.484951e-02 -4.327257e-02  1.882901e-01\n",
       "PREVOD NA UCET  -4.428757e-02 -2.493158e-01 -2.320356e-01\n",
       "PREVOD Z UCTU   -1.504152e-02  4.414658e-02 -2.708604e-02\n",
       "OTHER           -1.414581e-02 -1.475719e-01 -1.719662e-01\n",
       "POJISTNE        -1.405359e-03 -1.258528e-01 -1.026916e-01\n",
       "LEASING          7.878519e-19 -1.415864e-19 -1.457194e-17\n",
       "sanction_count   1.202899e-03  9.633819e-02  3.077573e-01\n",
       "sanction_amount  8.638519e-03  6.363664e-02  3.076935e-01\n",
       "gender           1.118073e-02 -5.831676e-03  3.885483e-02\n",
       "month_1_lag      2.274798e-02 -1.026661e-02  1.110139e-01\n",
       "month_3_lag      2.624591e-02 -2.699077e-02  1.073440e-01\n",
       "loan_amount      2.985463e-02  1.424826e-01  2.876788e-01\n",
       "month_2_lag      3.668412e-02 -6.262500e-03  1.365491e-01\n",
       "UVER             5.012010e-02  3.278189e-01  3.462544e-01\n",
       "VKLAD            5.358283e-02  1.660787e-01 -6.372283e-02\n",
       "loan_payments    6.427184e-02  2.328446e-01  1.972113e-01\n",
       "VYBER KARTOU     6.447563e-02  1.033107e-01 -2.006119e-01\n",
       "VYBER            6.973339e-02  3.456148e-01 -1.051349e-01\n",
       "net              9.007007e-02  3.747503e-01 -2.065131e-01\n",
       "debit            1.116433e-01  3.541016e-01 -2.971397e-01\n",
       "credit           1.129937e-01  3.751573e-01 -2.944803e-01\n",
       "crime_rate_95    4.229289e-01 -1.055408e-01 -1.445475e-02\n",
       "district_salary  4.347707e-01 -1.060820e-01 -1.073617e-02\n",
       "population       4.367105e-01 -1.101762e-01  8.074963e-03\n",
       "crime_rate_96    4.399953e-01 -1.036348e-01 -1.912875e-03"
      ]
     },
     "execution_count": 96,
     "metadata": {},
     "output_type": "execute_result"
    }
   ],
   "source": [
    "pd.DataFrame(pca.components_, columns=X_train.columns).T.sort_values(0)"
   ]
  },
  {
   "cell_type": "code",
   "execution_count": 97,
   "metadata": {},
   "outputs": [
    {
     "data": {
      "text/plain": [
       "<matplotlib.collections.PathCollection at 0x7f51d49fbb50>"
      ]
     },
     "execution_count": 97,
     "metadata": {},
     "output_type": "execute_result"
    },
    {
     "data": {
      "image/png": "[encoded data removed]",
      "text/plain": [
       "<Figure size 432x288 with 1 Axes>"
      ]
     },
     "metadata": {
      "needs_background": "light"
     },
     "output_type": "display_data"
    }
   ],
   "source": [
    "default_mask = y == 1\n",
    "plt.scatter(pca_trans[:,0][default_mask], pca_trans[:,1][default_mask], alpha=0.5)\n",
    "plt.scatter(pca_trans[:,0][~default_mask], pca_trans[:,1][~default_mask], alpha=0.5)"
   ]
  },
  {
   "cell_type": "code",
   "execution_count": 98,
   "metadata": {},
   "outputs": [],
   "source": [
    "from sklearn.cluster import KMeans"
   ]
  },
  {
   "cell_type": "code",
   "execution_count": 103,
   "metadata": {},
   "outputs": [],
   "source": [
    "km = KMeans(n_clusters=3)"
   ]
  },
  {
   "cell_type": "code",
   "execution_count": 104,
   "metadata": {},
   "outputs": [
    {
     "data": {
      "text/plain": [
       "KMeans(algorithm='auto', copy_x=True, init='k-means++', max_iter=300,\n",
       "       n_clusters=3, n_init=10, n_jobs=None, precompute_distances='auto',\n",
       "       random_state=None, tol=0.0001, verbose=0)"
      ]
     },
     "execution_count": 104,
     "metadata": {},
     "output_type": "execute_result"
    }
   ],
   "source": [
    "km.fit(pca_X)"
   ]
  },
  {
   "cell_type": "code",
   "execution_count": 106,
   "metadata": {},
   "outputs": [
    {
     "data": {
      "text/plain": [
       "<matplotlib.collections.PathCollection at 0x7f51d4f87e90>"
      ]
     },
     "execution_count": 106,
     "metadata": {},
     "output_type": "execute_result"
    },
    {
     "data": {
      "image/png": "[encoded data removed]",
      "text/plain": [
       "<Figure size 432x288 with 1 Axes>"
      ]
     },
     "metadata": {
      "needs_background": "light"
     },
     "output_type": "display_data"
    }
   ],
   "source": [
    "plt.scatter(pca_trans[:,0][km.labels_ == 0], pca_trans[:,1][km.labels_ == 0], alpha=0.2)\n",
    "plt.scatter(pca_trans[:,0][km.labels_ == 1], pca_trans[:,1][km.labels_ == 1], alpha=0.2)\n",
    "plt.scatter(pca_trans[:,0][km.labels_ == 2], pca_trans[:,1][km.labels_ == 2], alpha=0.2)\n",
    "plt.scatter(pca_trans[:,0][default_mask], pca_trans[:,1][default_mask], alpha=0.8)\n",
    "\n",
    "# Defaulters appear evenly distributed across clusters"
   ]
  },
  {
   "cell_type": "code",
   "execution_count": 107,
   "metadata": {},
   "outputs": [],
   "source": [
    "import xgboost as xgb"
   ]
  },
  {
   "cell_type": "code",
   "execution_count": 108,
   "metadata": {},
   "outputs": [],
   "source": [
    "dtrain = xgb.DMatrix(X_train.values, label=y_train.values)\n",
    "dtest = xgb.DMatrix(x_test.values, label=y_test.values)"
   ]
  },
  {
   "cell_type": "code",
   "execution_count": null,
   "metadata": {},
   "outputs": [],
   "source": []
  },
  {
   "cell_type": "code",
   "execution_count": 109,
   "metadata": {},
   "outputs": [
    {
     "name": "stdout",
     "output_type": "stream",
     "text": [
      "[0]\teval-auc:0.96603\ttrain-auc:0.97938\n",
      "[1]\teval-auc:0.96539\ttrain-auc:0.98911\n",
      "[2]\teval-auc:0.96496\ttrain-auc:0.98991\n",
      "[3]\teval-auc:0.96026\ttrain-auc:0.98931\n",
      "[4]\teval-auc:0.95000\ttrain-auc:0.99772\n",
      "[5]\teval-auc:0.95983\ttrain-auc:0.99904\n",
      "[6]\teval-auc:0.95192\ttrain-auc:0.99922\n",
      "[7]\teval-auc:0.96389\ttrain-auc:0.99943\n",
      "[8]\teval-auc:0.96560\ttrain-auc:0.99971\n",
      "[9]\teval-auc:0.95940\ttrain-auc:0.99974\n",
      "[10]\teval-auc:0.96239\ttrain-auc:0.99985\n",
      "[11]\teval-auc:0.96026\ttrain-auc:0.99985\n",
      "[12]\teval-auc:0.95705\ttrain-auc:1.00000\n",
      "[13]\teval-auc:0.95449\ttrain-auc:1.00000\n",
      "[14]\teval-auc:0.95150\ttrain-auc:1.00000\n"
     ]
    }
   ],
   "source": [
    "param = {'max_depth': 2, 'eta': 1, 'objective': 'binary:logistic'}\n",
    "param['nthread'] = 4\n",
    "param['eval_metric'] = 'auc'\n",
    "\n",
    "evallist = [(dtest, 'eval'), (dtrain, 'train')]\n",
    "\n",
    "num_round = 15\n",
    "bst = xgb.train(param, dtrain, num_round, evallist)\n"
   ]
  },
  {
   "cell_type": "code",
   "execution_count": 110,
   "metadata": {},
   "outputs": [],
   "source": [
    "boost_pred = np.round(bst.predict(dtest))"
   ]
  },
  {
   "cell_type": "code",
   "execution_count": 111,
   "metadata": {},
   "outputs": [
    {
     "name": "stdout",
     "output_type": "stream",
     "text": [
      "              precision    recall  f1-score   support\n",
      "\n",
      "           0       0.99      0.99      0.99       156\n",
      "           1       0.93      0.87      0.90        15\n",
      "\n",
      "    accuracy                           0.98       171\n",
      "   macro avg       0.96      0.93      0.94       171\n",
      "weighted avg       0.98      0.98      0.98       171\n",
      "\n"
     ]
    }
   ],
   "source": [
    "print(classification_report(y_test, boost_pred))"
   ]
  },
  {
   "cell_type": "code",
   "execution_count": null,
   "metadata": {},
   "outputs": [],
   "source": []
  }
 ],
 "metadata": {
  "kernelspec": {
   "display_name": "Python 3",
   "language": "python",
   "name": "python3"
  },
  "language_info": {
   "codemirror_mode": {
    "name": "ipython",
    "version": 3
   },
   "file_extension": ".py",
   "mimetype": "text/x-python",
   "name": "python",
   "nbconvert_exporter": "python",
   "pygments_lexer": "ipython3",
   "version": "3.7.4"
  }
 },
 "nbformat": 4,
 "nbformat_minor": 4
}
